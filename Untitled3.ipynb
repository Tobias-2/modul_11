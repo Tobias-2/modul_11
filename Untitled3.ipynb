{
 "cells": [
  {
   "cell_type": "code",
   "execution_count": 1,
   "id": "18059fa5-7c36-4ea7-bb92-486940e15062",
   "metadata": {},
   "outputs": [
    {
     "ename": "ModuleNotFoundError",
     "evalue": "No module named 'Output'",
     "output_type": "error",
     "traceback": [
      "\u001b[1;31m---------------------------------------------------------------------------\u001b[0m",
      "\u001b[1;31mModuleNotFoundError\u001b[0m                       Traceback (most recent call last)",
      "Cell \u001b[1;32mIn[1], line 6\u001b[0m\n\u001b[0;32m      4\u001b[0m \u001b[38;5;28;01mimport\u001b[39;00m \u001b[38;5;21;01mdash\u001b[39;00m \u001b[38;5;28;01mas\u001b[39;00m \u001b[38;5;21;01mdcc\u001b[39;00m\n\u001b[0;32m      5\u001b[0m \u001b[38;5;28;01mimport\u001b[39;00m \u001b[38;5;21;01mdash\u001b[39;00m \u001b[38;5;28;01mas\u001b[39;00m \u001b[38;5;21;01mhtml\u001b[39;00m\n\u001b[1;32m----> 6\u001b[0m \u001b[38;5;28;01mimport\u001b[39;00m \u001b[38;5;21;01mdash\u001b[39;00m\u001b[38;5;21;01m.\u001b[39;00m\u001b[38;5;21;01mdependencies\u001b[39;00m \u001b[38;5;28;01mas\u001b[39;00m \u001b[38;5;21;01mInput\u001b[39;00m\u001b[38;5;241m,\u001b[39m \u001b[38;5;21;01mOutput\u001b[39;00m\n\u001b[0;32m      7\u001b[0m \u001b[38;5;28;01mclass\u001b[39;00m \u001b[38;5;21;01mdb\u001b[39;00m:\n\u001b[0;32m      8\u001b[0m     \u001b[38;5;28;01mdef\u001b[39;00m \u001b[38;5;21m__init__\u001b[39m(\u001b[38;5;28mself\u001b[39m):\n",
      "\u001b[1;31mModuleNotFoundError\u001b[0m: No module named 'Output'"
     ]
    }
   ],
   "source": [
    "import pandas as pd\n",
    "import datetime as dt\n",
    "import os\n",
    "import dash as dcc\n",
    "import dash as html\n",
    "import dash.dependencies as Input, Output\n",
    "class db:\n",
    "    def __init__(self):\n",
    "        self.transactions = db.transation_init()\n",
    "        self.cc = pd.read_csv(r'db\\country_codes.csv',index_col=0)\n",
    "        self.customers = pd.read_csv(r'db\\customers.csv',index_col=0)\n",
    "        self.prod_info = pd.read_csv(r'db\\prod_cat_info.csv')"
   ]
  },
  {
   "cell_type": "code",
   "execution_count": 3,
   "id": "41c042ba-69de-4f56-86cd-860560c5fc03",
   "metadata": {},
   "outputs": [],
   "source": [
    "@staticmethod\n",
    "def transation_init():\n",
    "    transactions = pd.DataFrame()\n",
    "    src = r'db\\transactions'\n",
    "    for filename in os.listdir(src):\n",
    "        transactions = transactions.append(pd.read_csv(os.path.join(src,filename),index_col=0))\n",
    "\n",
    "    def convert_dates(x):\n",
    "        try:\n",
    "            return dt.datetime.strptime(x,'%d-%m-%Y')\n",
    "        except:\n",
    "            return dt.datetime.strptime(x,'%d/%m/%Y')\n",
    "\n",
    "    transactions['tran_date'] = transactions['tran_date'].apply(lambda x: convert_dates(x))\n",
    "\n",
    "    return transactions"
   ]
  },
  {
   "cell_type": "code",
   "execution_count": 5,
   "id": "b6ea0d88-8431-415c-899c-c53b250b3920",
   "metadata": {},
   "outputs": [],
   "source": [
    "def merge(self):\n",
    "    df = self.transactions.join(self.prod_info.drop_duplicates(subset=['prod_cat_code'])\n",
    "    .set_index('prod_cat_code')['prod_cat'],on='prod_cat_code',how='left')\n",
    "\n",
    "    df = df.join(self.prod_info.drop_duplicates(subset=['prod_sub_cat_code'])\n",
    "    .set_index('prod_sub_cat_code')['prod_subcat'],on='prod_subcat_code',how='left')\n",
    "\n",
    "    df = df.join(self.customers.join(self.cc,on='country_code')\n",
    "    .set_index('customer_Id'),on='cust_id')\n",
    "\n",
    "    self.merged = df"
   ]
  },
  {
   "cell_type": "code",
   "execution_count": 7,
   "id": "b9469c0a-deb8-493f-96a3-155418a83a68",
   "metadata": {},
   "outputs": [
    {
     "ename": "NameError",
     "evalue": "name 'db' is not defined",
     "output_type": "error",
     "traceback": [
      "\u001b[1;31m---------------------------------------------------------------------------\u001b[0m",
      "\u001b[1;31mNameError\u001b[0m                                 Traceback (most recent call last)",
      "Cell \u001b[1;32mIn[7], line 1\u001b[0m\n\u001b[1;32m----> 1\u001b[0m df \u001b[38;5;241m=\u001b[39m db()\n\u001b[0;32m      2\u001b[0m df\u001b[38;5;241m.\u001b[39mmerge()\n",
      "\u001b[1;31mNameError\u001b[0m: name 'db' is not defined"
     ]
    }
   ],
   "source": [
    "df = db()\n",
    "df.merge()"
   ]
  },
  {
   "cell_type": "code",
   "execution_count": 9,
   "id": "44fc94d0-7acb-4c13-a2a5-c9af0a81d8fb",
   "metadata": {},
   "outputs": [
    {
     "ename": "NameError",
     "evalue": "name 'dash' is not defined",
     "output_type": "error",
     "traceback": [
      "\u001b[1;31m---------------------------------------------------------------------------\u001b[0m",
      "\u001b[1;31mNameError\u001b[0m                                 Traceback (most recent call last)",
      "Cell \u001b[1;32mIn[9], line 3\u001b[0m\n\u001b[0;32m      1\u001b[0m external_stylesheets \u001b[38;5;241m=\u001b[39m [\u001b[38;5;124m'\u001b[39m\u001b[38;5;124mhttps://codepen.io/chriddyp/pen/bWLwgP.css\u001b[39m\u001b[38;5;124m'\u001b[39m]\n\u001b[1;32m----> 3\u001b[0m app \u001b[38;5;241m=\u001b[39m dash\u001b[38;5;241m.\u001b[39mDash(\u001b[38;5;18m__name__\u001b[39m, external_stylesheets\u001b[38;5;241m=\u001b[39mexternal_stylesheets)\n",
      "\u001b[1;31mNameError\u001b[0m: name 'dash' is not defined"
     ]
    }
   ],
   "source": [
    "external_stylesheets = ['https://codepen.io/chriddyp/pen/bWLwgP.css']\n",
    "\n",
    "app = dash.Dash(__name__, external_stylesheets=external_stylesheets)"
   ]
  },
  {
   "cell_type": "code",
   "execution_count": 11,
   "id": "e781695c-516b-48c9-ae86-d36ec9fa4d7c",
   "metadata": {},
   "outputs": [
    {
     "ename": "AttributeError",
     "evalue": "module 'dash' has no attribute 'Div'",
     "output_type": "error",
     "traceback": [
      "\u001b[1;31m---------------------------------------------------------------------------\u001b[0m",
      "\u001b[1;31mAttributeError\u001b[0m                            Traceback (most recent call last)",
      "Cell \u001b[1;32mIn[11], line 1\u001b[0m\n\u001b[1;32m----> 1\u001b[0m app\u001b[38;5;241m.\u001b[39mlayout \u001b[38;5;241m=\u001b[39m html\u001b[38;5;241m.\u001b[39mDiv([],\n\u001b[0;32m      2\u001b[0m                     style\u001b[38;5;241m=\u001b[39m{\u001b[38;5;124m'\u001b[39m\u001b[38;5;124mheight\u001b[39m\u001b[38;5;124m'\u001b[39m:\u001b[38;5;124m'\u001b[39m\u001b[38;5;124m100\u001b[39m\u001b[38;5;124m%\u001b[39m\u001b[38;5;124m'\u001b[39m})\n",
      "\u001b[1;31mAttributeError\u001b[0m: module 'dash' has no attribute 'Div'"
     ]
    }
   ],
   "source": [
    "app.layout = html.Div([],\n",
    "                    style={'height':'100%'})"
   ]
  },
  {
   "cell_type": "code",
   "execution_count": 13,
   "id": "2e53ea0f-b7a9-4c88-90c7-732030aa2aeb",
   "metadata": {},
   "outputs": [
    {
     "ename": "AttributeError",
     "evalue": "module 'dash' has no attribute 'Div'",
     "output_type": "error",
     "traceback": [
      "\u001b[1;31m---------------------------------------------------------------------------\u001b[0m",
      "\u001b[1;31mAttributeError\u001b[0m                            Traceback (most recent call last)",
      "Cell \u001b[1;32mIn[13], line 1\u001b[0m\n\u001b[1;32m----> 1\u001b[0m app\u001b[38;5;241m.\u001b[39mlayout \u001b[38;5;241m=\u001b[39m html\u001b[38;5;241m.\u001b[39mDiv([html\u001b[38;5;241m.\u001b[39mDiv([],style\u001b[38;5;241m=\u001b[39m{\u001b[38;5;124m'\u001b[39m\u001b[38;5;124mwidth\u001b[39m\u001b[38;5;124m'\u001b[39m:\u001b[38;5;124m'\u001b[39m\u001b[38;5;124m80\u001b[39m\u001b[38;5;124m%\u001b[39m\u001b[38;5;124m'\u001b[39m,\u001b[38;5;124m'\u001b[39m\u001b[38;5;124mmargin\u001b[39m\u001b[38;5;124m'\u001b[39m:\u001b[38;5;124m'\u001b[39m\u001b[38;5;124mauto\u001b[39m\u001b[38;5;124m'\u001b[39m})],\n\u001b[0;32m      2\u001b[0m                     style\u001b[38;5;241m=\u001b[39m{\u001b[38;5;124m'\u001b[39m\u001b[38;5;124mheight\u001b[39m\u001b[38;5;124m'\u001b[39m:\u001b[38;5;124m'\u001b[39m\u001b[38;5;124m100\u001b[39m\u001b[38;5;124m%\u001b[39m\u001b[38;5;124m'\u001b[39m})\n",
      "\u001b[1;31mAttributeError\u001b[0m: module 'dash' has no attribute 'Div'"
     ]
    }
   ],
   "source": [
    "app.layout = html.Div([html.Div([],style={'width':'80%','margin':'auto'})],\n",
    "                    style={'height':'100%'})"
   ]
  },
  {
   "cell_type": "code",
   "execution_count": 15,
   "id": "3aaffc35-f55d-484d-997a-29491c5bb5f0",
   "metadata": {},
   "outputs": [
    {
     "ename": "AttributeError",
     "evalue": "module 'dash' has no attribute 'Tabs'",
     "output_type": "error",
     "traceback": [
      "\u001b[1;31m---------------------------------------------------------------------------\u001b[0m",
      "\u001b[1;31mAttributeError\u001b[0m                            Traceback (most recent call last)",
      "Cell \u001b[1;32mIn[15], line 1\u001b[0m\n\u001b[1;32m----> 1\u001b[0m [dcc\u001b[38;5;241m.\u001b[39mTabs(\u001b[38;5;28mid\u001b[39m\u001b[38;5;241m=\u001b[39m\u001b[38;5;124m'\u001b[39m\u001b[38;5;124mtabs\u001b[39m\u001b[38;5;124m'\u001b[39m,value\u001b[38;5;241m=\u001b[39m\u001b[38;5;124m'\u001b[39m\u001b[38;5;124mtab-1\u001b[39m\u001b[38;5;124m'\u001b[39m,children\u001b[38;5;241m=\u001b[39m[\n\u001b[0;32m      2\u001b[0m                             dcc\u001b[38;5;241m.\u001b[39mTab(label\u001b[38;5;241m=\u001b[39m\u001b[38;5;124m'\u001b[39m\u001b[38;5;124mSprzedaż globalna\u001b[39m\u001b[38;5;124m'\u001b[39m,value\u001b[38;5;241m=\u001b[39m\u001b[38;5;124m'\u001b[39m\u001b[38;5;124mtab-1\u001b[39m\u001b[38;5;124m'\u001b[39m),\n\u001b[0;32m      3\u001b[0m                             dcc\u001b[38;5;241m.\u001b[39mTab(label\u001b[38;5;241m=\u001b[39m\u001b[38;5;124m'\u001b[39m\u001b[38;5;124mProdukty\u001b[39m\u001b[38;5;124m'\u001b[39m,value\u001b[38;5;241m=\u001b[39m\u001b[38;5;124m'\u001b[39m\u001b[38;5;124mtab-2\u001b[39m\u001b[38;5;124m'\u001b[39m)\n\u001b[0;32m      4\u001b[0m                             ]),\n\u001b[0;32m      5\u001b[0m                             html\u001b[38;5;241m.\u001b[39mDiv(\u001b[38;5;28mid\u001b[39m\u001b[38;5;241m=\u001b[39m\u001b[38;5;124m'\u001b[39m\u001b[38;5;124mtabs-content\u001b[39m\u001b[38;5;124m'\u001b[39m)]\n",
      "\u001b[1;31mAttributeError\u001b[0m: module 'dash' has no attribute 'Tabs'"
     ]
    }
   ],
   "source": [
    "[dcc.Tabs(id='tabs',value='tab-1',children=[\n",
    "                            dcc.Tab(label='Sprzedaż globalna',value='tab-1'),\n",
    "                            dcc.Tab(label='Produkty',value='tab-2')\n",
    "                            ]),\n",
    "                            html.Div(id='tabs-content')]"
   ]
  },
  {
   "cell_type": "code",
   "execution_count": null,
   "id": "e5399d5c-82f9-4b9d-9355-4f8d3d66deda",
   "metadata": {},
   "outputs": [],
   "source": []
  }
 ],
 "metadata": {
  "kernelspec": {
   "display_name": "Python 3 (ipykernel)",
   "language": "python",
   "name": "python3"
  },
  "language_info": {
   "codemirror_mode": {
    "name": "ipython",
    "version": 3
   },
   "file_extension": ".py",
   "mimetype": "text/x-python",
   "name": "python",
   "nbconvert_exporter": "python",
   "pygments_lexer": "ipython3",
   "version": "3.12.3"
  }
 },
 "nbformat": 4,
 "nbformat_minor": 5
}
