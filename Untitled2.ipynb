{
 "cells": [
  {
   "cell_type": "code",
   "execution_count": 220,
   "id": "2aff3d6b-89f1-44cc-bfad-00e941652584",
   "metadata": {},
   "outputs": [
    {
     "data": {
      "text/html": [
       "\n",
       "        <iframe\n",
       "            width=\"100%\"\n",
       "            height=\"650\"\n",
       "            src=\"http://127.0.0.1:8050/\"\n",
       "            frameborder=\"0\"\n",
       "            allowfullscreen\n",
       "            \n",
       "        ></iframe>\n",
       "        "
      ],
      "text/plain": [
       "<IPython.lib.display.IFrame at 0x2028733a2d0>"
      ]
     },
     "metadata": {},
     "output_type": "display_data"
    }
   ],
   "source": [
    "import dash\n",
    "import dash_core_components as dcc\n",
    "import dash_html_components as html\n",
    "\n",
    "app = dash.Dash()\n",
    "\n",
    "app.layout = html.Div(children=[\n",
    "            html.H1('Mój dashboard',style={'margin':'auto'}),\n",
    "            html.Div('Tu pojawi się content',style={'color':'red'})\n",
    "])\n",
    "\n",
    "if __name__ == '__main__':\n",
    "    app.run_server()"
   ]
  },
  {
   "cell_type": "code",
   "execution_count": 222,
   "id": "03bcc433-9596-4836-b3e3-b3e4dc4fdc9d",
   "metadata": {},
   "outputs": [],
   "source": [
    "import plotly.graph_objs as go"
   ]
  },
  {
   "cell_type": "code",
   "execution_count": 224,
   "id": "f8c0baca-5775-428d-b18e-16f5efe0deca",
   "metadata": {},
   "outputs": [],
   "source": [
    "data = [go.Scatter(x=[1,2,3,4],y=[10,20,30,40])]\n",
    "layout = go.Layout(title='Pierwszy wykres',width=600,height=600)\n",
    "fig = go.Figure(data=data,layout=layout)"
   ]
  },
  {
   "cell_type": "code",
   "execution_count": 226,
   "id": "dff4d567-567e-48e5-a9d8-f109332ed2c8",
   "metadata": {},
   "outputs": [],
   "source": [
    "app.layout = html.Div(children=[\n",
    "            html.H1('Mój dashboard',style={'margin':'auto'}),\n",
    "            html.Div('Tu pojawi się content',style={'color':'red'}),\n",
    "            dcc.Graph(id='first-graph',figure=fig)\n",
    "])"
   ]
  },
  {
   "cell_type": "code",
   "execution_count": 228,
   "id": "d70e70cb-3b26-4df9-8258-27c4d20f2903",
   "metadata": {},
   "outputs": [
    {
     "data": {
      "text/html": [
       "\n",
       "        <iframe\n",
       "            width=\"100%\"\n",
       "            height=\"650\"\n",
       "            src=\"http://127.0.0.1:8050/\"\n",
       "            frameborder=\"0\"\n",
       "            allowfullscreen\n",
       "            \n",
       "        ></iframe>\n",
       "        "
      ],
      "text/plain": [
       "<IPython.lib.display.IFrame at 0x2028733a2d0>"
      ]
     },
     "metadata": {},
     "output_type": "display_data"
    }
   ],
   "source": [
    "app.run_server()"
   ]
  },
  {
   "cell_type": "code",
   "execution_count": 230,
   "id": "6699998e-3e29-4bb9-aa3d-10e6f754e74b",
   "metadata": {},
   "outputs": [
    {
     "data": {
      "text/html": [
       "\n",
       "        <iframe\n",
       "            width=\"100%\"\n",
       "            height=\"650\"\n",
       "            src=\"http://127.0.0.1:8050/\"\n",
       "            frameborder=\"0\"\n",
       "            allowfullscreen\n",
       "            \n",
       "        ></iframe>\n",
       "        "
      ],
      "text/plain": [
       "<IPython.lib.display.IFrame at 0x202856c72f0>"
      ]
     },
     "metadata": {},
     "output_type": "display_data"
    }
   ],
   "source": [
    "app.layout = html.Div(children=[\n",
    "            html.H1('Mój dashboard',style={'margin':'auto'}),\n",
    "            html.Div('Tu pojawi się content',style={'color':'red'}),\n",
    "            dcc.Graph(id='first-graph',figure=fig),\n",
    "            html.Label('Slider'),\n",
    "            html.Div([dcc.Slider(id='my-slider',min=1,max=4,step=1,value=1)],\n",
    "            style={'width':'400px'})\n",
    "])\n",
    "app.run_server()"
   ]
  },
  {
   "cell_type": "code",
   "execution_count": 232,
   "id": "fc8b4800-c2f9-45f9-bfe3-7f7b0b3bb221",
   "metadata": {},
   "outputs": [
    {
     "data": {
      "text/html": [
       "\n",
       "        <iframe\n",
       "            width=\"100%\"\n",
       "            height=\"650\"\n",
       "            src=\"http://127.0.0.1:8050/\"\n",
       "            frameborder=\"0\"\n",
       "            allowfullscreen\n",
       "            \n",
       "        ></iframe>\n",
       "        "
      ],
      "text/plain": [
       "<IPython.lib.display.IFrame at 0x202856c72f0>"
      ]
     },
     "metadata": {},
     "output_type": "display_data"
    }
   ],
   "source": [
    "app.run_server()"
   ]
  },
  {
   "cell_type": "code",
   "execution_count": 234,
   "id": "26f83484-3b6e-4ca9-b7ab-ff0840d0acdf",
   "metadata": {},
   "outputs": [],
   "source": [
    "from dash.dependencies import Input, Output"
   ]
  },
  {
   "cell_type": "code",
   "execution_count": 236,
   "id": "9413122e-0539-4f6f-91af-4a1f162804f4",
   "metadata": {},
   "outputs": [],
   "source": [
    "@app.callback(Output(component_id='first-graph',component_property='figure'),\n",
    "            [Input('my-slider','value')])\n",
    "def update_figure(max_range):\n",
    "    return"
   ]
  },
  {
   "cell_type": "code",
   "execution_count": 238,
   "id": "9ab1c7b1-3c6b-4080-8378-f6a8825364b2",
   "metadata": {},
   "outputs": [],
   "source": [
    "@app.callback(Output(component_id='first-graph',component_property='figure'),\n",
    "            [Input('my-slider','value')])\n",
    "def update_figure(max_range):\n",
    "\n",
    "    data = [go.Scatter(x=[1,2,3,4],y=[10,20,30,40])]\n",
    "    layout = go.Layout(title='Pierwszy wykres',width=600,height=300,\n",
    "    xaxis=dict(range=[1,max_range]))\n",
    "    fig = go.Figure(data=data,layout=layout)\n",
    "\n",
    "    return fig"
   ]
  },
  {
   "cell_type": "code",
   "execution_count": 240,
   "id": "43964fa1-38fe-4820-a2e5-f7042958ca00",
   "metadata": {},
   "outputs": [
    {
     "data": {
      "text/html": [
       "\n",
       "        <iframe\n",
       "            width=\"100%\"\n",
       "            height=\"650\"\n",
       "            src=\"http://127.0.0.1:8050/\"\n",
       "            frameborder=\"0\"\n",
       "            allowfullscreen\n",
       "            \n",
       "        ></iframe>\n",
       "        "
      ],
      "text/plain": [
       "<IPython.lib.display.IFrame at 0x202856c72f0>"
      ]
     },
     "metadata": {},
     "output_type": "display_data"
    }
   ],
   "source": [
    "import dash\n",
    "import dash_core_components as dcc\n",
    "import dash_html_components as html\n",
    "from dash.dependencies import Input, Output\n",
    "import plotly.graph_objs as go\n",
    "\n",
    "app = dash.Dash()\n",
    "\n",
    "app.layout = html.Div(children=[\n",
    "            html.H1('Mój dashboard',style={'margin':'auto'}),\n",
    "            html.Div('Tu pojawi się content',style={'color':'red'}),\n",
    "            dcc.Graph(id='first-graph'),\n",
    "            html.Label('Slider'),\n",
    "            html.Div([dcc.Slider(id='my-slider',min=1,max=4,step=1,value=1)],\n",
    "            style={'width':'400px'})\n",
    "])\n",
    "\n",
    "@app.callback(Output(component_id='first-graph',component_property='figure'),\n",
    "            [Input('my-slider','value')])\n",
    "def update_figure(max_range):\n",
    "\n",
    "    data = [go.Scatter(x=[1,2,3,4],y=[10,20,30,40])]\n",
    "    layout = go.Layout(title='Pierwszy wykres',width=600,height=300,\n",
    "    xaxis=dict(range=[1,max_range]))\n",
    "    fig = go.Figure(data=data,layout=layout)\n",
    "\n",
    "    return fig\n",
    "\n",
    "if __name__ == '__main__':\n",
    "    app.run_server()"
   ]
  },
  {
   "cell_type": "code",
   "execution_count": 242,
   "id": "0a2be5a8-d99e-4948-86d7-88b3b0f5671e",
   "metadata": {},
   "outputs": [],
   "source": [
    "import dash\n",
    "import dash_core_components as dcc\n",
    "import dash_html_components as html\n",
    "from dash.dependencies import Input, Output\n",
    "import plotly.graph_objs as go\n",
    "import pandas as pd\n",
    "from plotly import tools\n",
    "import datetime as dt"
   ]
  },
  {
   "cell_type": "code",
   "execution_count": 244,
   "id": "5daf2245-18e3-4666-b8cf-d514ee930a94",
   "metadata": {},
   "outputs": [],
   "source": [
    "df = pd.read_csv('dataexport_20200613T163949.csv',\n",
    "    skiprows=9,index_col=0,parse_dates=True)"
   ]
  },
  {
   "cell_type": "code",
   "execution_count": 246,
   "id": "889f4909-1849-4ded-a757-dffe467c303a",
   "metadata": {
    "scrolled": true
   },
   "outputs": [
    {
     "data": {
      "text/html": [
       "<div>\n",
       "<style scoped>\n",
       "    .dataframe tbody tr th:only-of-type {\n",
       "        vertical-align: middle;\n",
       "    }\n",
       "\n",
       "    .dataframe tbody tr th {\n",
       "        vertical-align: top;\n",
       "    }\n",
       "\n",
       "    .dataframe thead th {\n",
       "        text-align: right;\n",
       "    }\n",
       "</style>\n",
       "<table border=\"1\" class=\"dataframe\">\n",
       "  <thead>\n",
       "    <tr style=\"text-align: right;\">\n",
       "      <th></th>\n",
       "      <th>Wrocław Temperature [2 m elevation corrected]</th>\n",
       "      <th>Wrocław Precipitation Total</th>\n",
       "      <th>Wrocław Wind Speed [10 m]</th>\n",
       "      <th>Wrocław Wind Direction [10 m]</th>\n",
       "    </tr>\n",
       "    <tr>\n",
       "      <th>timestamp</th>\n",
       "      <th></th>\n",
       "      <th></th>\n",
       "      <th></th>\n",
       "      <th></th>\n",
       "    </tr>\n",
       "  </thead>\n",
       "  <tbody>\n",
       "    <tr>\n",
       "      <th>2020-06-01 00:00:00</th>\n",
       "      <td>13.444630</td>\n",
       "      <td>0.0</td>\n",
       "      <td>11.038736</td>\n",
       "      <td>8.325638</td>\n",
       "    </tr>\n",
       "    <tr>\n",
       "      <th>2020-06-01 01:00:00</th>\n",
       "      <td>12.224629</td>\n",
       "      <td>0.0</td>\n",
       "      <td>10.738927</td>\n",
       "      <td>7.125000</td>\n",
       "    </tr>\n",
       "    <tr>\n",
       "      <th>2020-06-01 02:00:00</th>\n",
       "      <td>11.424629</td>\n",
       "      <td>0.0</td>\n",
       "      <td>10.922400</td>\n",
       "      <td>12.680374</td>\n",
       "    </tr>\n",
       "    <tr>\n",
       "      <th>2020-06-01 03:00:00</th>\n",
       "      <td>10.614630</td>\n",
       "      <td>0.0</td>\n",
       "      <td>10.084568</td>\n",
       "      <td>12.200455</td>\n",
       "    </tr>\n",
       "    <tr>\n",
       "      <th>2020-06-01 04:00:00</th>\n",
       "      <td>9.784630</td>\n",
       "      <td>0.0</td>\n",
       "      <td>9.155017</td>\n",
       "      <td>8.365875</td>\n",
       "    </tr>\n",
       "    <tr>\n",
       "      <th>...</th>\n",
       "      <td>...</td>\n",
       "      <td>...</td>\n",
       "      <td>...</td>\n",
       "      <td>...</td>\n",
       "    </tr>\n",
       "    <tr>\n",
       "      <th>2020-06-07 19:00:00</th>\n",
       "      <td>18.254630</td>\n",
       "      <td>1.7</td>\n",
       "      <td>4.713097</td>\n",
       "      <td>47.290590</td>\n",
       "    </tr>\n",
       "    <tr>\n",
       "      <th>2020-06-07 20:00:00</th>\n",
       "      <td>17.664629</td>\n",
       "      <td>1.1</td>\n",
       "      <td>7.315093</td>\n",
       "      <td>33.111343</td>\n",
       "    </tr>\n",
       "    <tr>\n",
       "      <th>2020-06-07 21:00:00</th>\n",
       "      <td>17.094630</td>\n",
       "      <td>0.5</td>\n",
       "      <td>7.996438</td>\n",
       "      <td>1.909149</td>\n",
       "    </tr>\n",
       "    <tr>\n",
       "      <th>2020-06-07 22:00:00</th>\n",
       "      <td>16.374628</td>\n",
       "      <td>1.4</td>\n",
       "      <td>8.172013</td>\n",
       "      <td>340.974400</td>\n",
       "    </tr>\n",
       "    <tr>\n",
       "      <th>2020-06-07 23:00:00</th>\n",
       "      <td>15.354629</td>\n",
       "      <td>2.2</td>\n",
       "      <td>9.946393</td>\n",
       "      <td>352.303960</td>\n",
       "    </tr>\n",
       "  </tbody>\n",
       "</table>\n",
       "<p>168 rows × 4 columns</p>\n",
       "</div>"
      ],
      "text/plain": [
       "                     Wrocław Temperature [2 m elevation corrected]  \\\n",
       "timestamp                                                            \n",
       "2020-06-01 00:00:00                                      13.444630   \n",
       "2020-06-01 01:00:00                                      12.224629   \n",
       "2020-06-01 02:00:00                                      11.424629   \n",
       "2020-06-01 03:00:00                                      10.614630   \n",
       "2020-06-01 04:00:00                                       9.784630   \n",
       "...                                                            ...   \n",
       "2020-06-07 19:00:00                                      18.254630   \n",
       "2020-06-07 20:00:00                                      17.664629   \n",
       "2020-06-07 21:00:00                                      17.094630   \n",
       "2020-06-07 22:00:00                                      16.374628   \n",
       "2020-06-07 23:00:00                                      15.354629   \n",
       "\n",
       "                     Wrocław Precipitation Total  Wrocław Wind Speed [10 m]  \\\n",
       "timestamp                                                                     \n",
       "2020-06-01 00:00:00                          0.0                  11.038736   \n",
       "2020-06-01 01:00:00                          0.0                  10.738927   \n",
       "2020-06-01 02:00:00                          0.0                  10.922400   \n",
       "2020-06-01 03:00:00                          0.0                  10.084568   \n",
       "2020-06-01 04:00:00                          0.0                   9.155017   \n",
       "...                                          ...                        ...   \n",
       "2020-06-07 19:00:00                          1.7                   4.713097   \n",
       "2020-06-07 20:00:00                          1.1                   7.315093   \n",
       "2020-06-07 21:00:00                          0.5                   7.996438   \n",
       "2020-06-07 22:00:00                          1.4                   8.172013   \n",
       "2020-06-07 23:00:00                          2.2                   9.946393   \n",
       "\n",
       "                     Wrocław Wind Direction [10 m]  \n",
       "timestamp                                           \n",
       "2020-06-01 00:00:00                       8.325638  \n",
       "2020-06-01 01:00:00                       7.125000  \n",
       "2020-06-01 02:00:00                      12.680374  \n",
       "2020-06-01 03:00:00                      12.200455  \n",
       "2020-06-01 04:00:00                       8.365875  \n",
       "...                                            ...  \n",
       "2020-06-07 19:00:00                      47.290590  \n",
       "2020-06-07 20:00:00                      33.111343  \n",
       "2020-06-07 21:00:00                       1.909149  \n",
       "2020-06-07 22:00:00                     340.974400  \n",
       "2020-06-07 23:00:00                     352.303960  \n",
       "\n",
       "[168 rows x 4 columns]"
      ]
     },
     "execution_count": 246,
     "metadata": {},
     "output_type": "execute_result"
    }
   ],
   "source": [
    "df"
   ]
  },
  {
   "cell_type": "code",
   "execution_count": 248,
   "id": "8d019054-f814-4d05-8c5d-dc3fb1399a03",
   "metadata": {},
   "outputs": [],
   "source": [
    "app = dash.Dash()\n",
    "\n",
    "app.layout = html.Div([...],style={'width':'80%','margin':'auto'})"
   ]
  },
  {
   "cell_type": "code",
   "execution_count": 250,
   "id": "a8189e11-d7d9-4bf1-983f-86329ad9903c",
   "metadata": {},
   "outputs": [
    {
     "data": {
      "text/plain": [
       "H1(children='Pogoda we Wrocławiu', style={'text-align': 'center'})"
      ]
     },
     "execution_count": 250,
     "metadata": {},
     "output_type": "execute_result"
    }
   ],
   "source": [
    "html.H1('Pogoda we Wrocławiu',style={'text-align':'center'})"
   ]
  },
  {
   "cell_type": "code",
   "execution_count": 252,
   "id": "8f3c2a72-b852-4a0b-8630-2f6ffb9e7252",
   "metadata": {},
   "outputs": [
    {
     "data": {
      "text/plain": [
       "Graph(id='wro-weather')"
      ]
     },
     "execution_count": 252,
     "metadata": {},
     "output_type": "execute_result"
    }
   ],
   "source": [
    "dcc.Graph(id='wro-weather')"
   ]
  },
  {
   "cell_type": "code",
   "execution_count": 254,
   "id": "7f14d124-db1b-45e3-bdfb-3bf6bb25dd85",
   "metadata": {},
   "outputs": [
    {
     "data": {
      "text/plain": [
       "RangeSlider(min=1, max=7, step=1, marks={1: '06-01', 2: '06-02', 3: '06-03', 4: '06-04', 5: '06-05', 6: '06-06', 7: '06-07'}, value=[1, 7], id='date-slider')"
      ]
     },
     "execution_count": 254,
     "metadata": {},
     "output_type": "execute_result"
    }
   ],
   "source": [
    "dcc.RangeSlider(id='date-slider',\n",
    "                min=df.index.min().day,\n",
    "                max=df.index.max().day,\n",
    "                step=1,\n",
    "                marks={date.day:date.strftime('%m-%d') for date in df.index.unique()},\n",
    "                value=[df.index.min().day,df.index.max().day])"
   ]
  },
  {
   "cell_type": "code",
   "execution_count": 256,
   "id": "602c8894-16c4-4928-aae8-b668cfebc1ad",
   "metadata": {},
   "outputs": [
    {
     "data": {
      "text/plain": [
       "Div(id='hover-details', style={'text-align': 'center', 'margin-top': '20px', 'font-weight': 'bold'})"
      ]
     },
     "execution_count": 256,
     "metadata": {},
     "output_type": "execute_result"
    }
   ],
   "source": [
    "html.Div(id='hover-details',style={'text-align':'center',\n",
    "                        'margin-top':'20px',\n",
    "                        'font-weight':'bold'})"
   ]
  },
  {
   "cell_type": "code",
   "execution_count": 258,
   "id": "db9938ea-c7c9-45f8-8cc5-8497cbb7ee88",
   "metadata": {},
   "outputs": [],
   "source": [
    "@app.callback(Output('wro-weather','figure'),\n",
    "    [Input('date-slider','value')])\n",
    "def update_heatmap(x_range):\n",
    "\n",
    "    wro_temp = df.truncate(before=dt.datetime(2020,6,x_range[0]),\n",
    "            after=dt.datetime(2020,6,x_range[1])+pd.Timedelta(hours=23))"
   ]
  },
  {
   "cell_type": "code",
   "execution_count": 260,
   "id": "5f1dc2e7-98a9-41e0-a00e-905c0c56f36e",
   "metadata": {},
   "outputs": [],
   "source": [
    "@app.callback(Output('wro-weather','figure'),\n",
    "    [Input('date-slider','value')])\n",
    "def update_heatmap(x_range):\n",
    "\n",
    "    wro_temp = df.truncate(before=dt.datetime(2020,6,x_range[0]),\n",
    "        after=dt.datetime(2020,6,x_range[1])+pd.Timedelta(hours=23))\n",
    "\n",
    "    fig = tools.make_subplots(rows=1, cols=2, subplot_titles=['Temperatura', 'Opady'], shared_yaxes=True)\n",
    "\n",
    "    fig.append_trace(go.Heatmap(x=wro_temp.index.hour,\n",
    "            y=wro_temp.index.weekday.map({0:'Poniedziałek',\n",
    "                                1:'Wtorek',\n",
    "                                2:'Środa',\n",
    "                                3:'Czwartek',\n",
    "                                4:'Piątek',\n",
    "                                5:'Sobota',\n",
    "                                6:'Niedziela'}),\n",
    "            z=wro_temp['Wrocław Temperature [2 m elevation corrected]'].tolist(),\n",
    "            colorscale='Jet',\n",
    "             showscale=False),1,1)\n",
    "\n",
    "    fig.append_trace(go.Heatmap(x=wro_temp.index.hour,\n",
    "                y=wro_temp.index.weekday.map({0:'Poniedziałek',\n",
    "                    1:'Wtorek',\n",
    "                    2:'Środa',\n",
    "                    3:'Czwartek',\n",
    "                    4:'Piątek',\n",
    "                    5:'Sobota',\n",
    "                    6:'Niedziela'}),\n",
    "                    z=wro_temp['Wrocław Precipitation Total'].tolist(),\n",
    "                    colorscale='Cividis',\n",
    "                    showscale=False),1,2)\n",
    "    return fig\n",
    "    "
   ]
  },
  {
   "cell_type": "code",
   "execution_count": 262,
   "id": "c7294938-efe3-4e5f-9594-2abb5e94b045",
   "metadata": {},
   "outputs": [],
   "source": [
    "@app.callback(Output('hover-details','children'),\n",
    "    [Input('wro-weather','hoverData')])\n",
    "def update_hover_details(hoverData):\n",
    "    pass"
   ]
  },
  {
   "cell_type": "code",
   "execution_count": 264,
   "id": "65d3d4c8-78c9-44c2-b703-e54456475fc2",
   "metadata": {},
   "outputs": [],
   "source": [
    "def update_hover_details(hoverData):\n",
    "    dpoint = hoverData['points'][0]\n",
    "\n",
    "    if dpoint['curveNumber'] == 0:\n",
    "        return f\"{dpoint['y']}: temperatura powietrza o godzinie {dpoint['x']} wynosiła {round(dpoint['z'],2)}\"\n",
    "    elif dpoint['curveNumber'] == 1:\n",
    "        return f\"{dpoint['y']}: opady o godzinie {dpoint['x']} wynosiły {round(dpoint['z'],2)}\""
   ]
  },
  {
   "cell_type": "code",
   "execution_count": 266,
   "id": "a7f94ace-6968-4634-8494-6caae5aa59ba",
   "metadata": {},
   "outputs": [
    {
     "data": {
      "text/html": [
       "\n",
       "        <iframe\n",
       "            width=\"100%\"\n",
       "            height=\"650\"\n",
       "            src=\"http://127.0.0.1:8050/\"\n",
       "            frameborder=\"0\"\n",
       "            allowfullscreen\n",
       "            \n",
       "        ></iframe>\n",
       "        "
      ],
      "text/plain": [
       "<IPython.lib.display.IFrame at 0x202856c72f0>"
      ]
     },
     "metadata": {},
     "output_type": "display_data"
    }
   ],
   "source": [
    "if __name__ == '__main__':\n",
    "    app.run_server()"
   ]
  },
  {
   "cell_type": "code",
   "execution_count": 268,
   "id": "af2de5af-4a5f-49f0-96cf-e3eaf092003e",
   "metadata": {},
   "outputs": [
    {
     "data": {
      "text/html": [
       "\n",
       "        <iframe\n",
       "            width=\"100%\"\n",
       "            height=\"650\"\n",
       "            src=\"http://127.0.0.1:8050/\"\n",
       "            frameborder=\"0\"\n",
       "            allowfullscreen\n",
       "            \n",
       "        ></iframe>\n",
       "        "
      ],
      "text/plain": [
       "<IPython.lib.display.IFrame at 0x20284d32060>"
      ]
     },
     "metadata": {},
     "output_type": "display_data"
    }
   ],
   "source": [
    "import dash\n",
    "import dash_core_components as dcc\n",
    "import dash_html_components as html\n",
    "from dash.dependencies import Input, Output\n",
    "import plotly.graph_objs as go\n",
    "import pandas as pd\n",
    "from plotly import tools\n",
    "import datetime as dt\n",
    "\n",
    "df = pd.read_csv('dataexport_20200613T163949.csv',\n",
    "                 skiprows=9, index_col=0, parse_dates=True)\n",
    "\n",
    "app = dash.Dash()\n",
    "\n",
    "app.layout = html.Div(children=[html.H1('Pogoda we Wrocławiu', style={'text-align': 'center'}),\n",
    "                                dcc.Graph(id='wro-weather'), dcc.RangeSlider(id='date-slider',\n",
    "                                                                             min=df.index.min().day,\n",
    "                                                                             max=df.index.max().day,\n",
    "                                                                             step=1,\n",
    "                                                                             marks={date.day: date.strftime(\n",
    "                                                                                 '%m-%d') for date in df.index.unique()},\n",
    "                                                                             value=[df.index.min().day, df.index.max().day]),\n",
    "                                html.Div(id='hover-details', style={'text-align': 'center',\n",
    "                                                                    'margin-top': '20px',\n",
    "                                                                    'font-weight': 'bold'})], style={'width': '80%', 'margin': 'auto'})\n",
    "\n",
    "\n",
    "@app.callback(Output('wro-weather', 'figure'),\n",
    "              [Input('date-slider', 'value')])\n",
    "def update_heatmap(x_range):\n",
    "\n",
    "    wro_temp = df.truncate(before=dt.datetime(2020, 6, x_range[0]),\n",
    "                           after=dt.datetime(2020, 6, x_range[1])+pd.Timedelta(hours=23))\n",
    "\n",
    "    fig = tools.make_subplots(rows=1, cols=2, subplot_titles=[\n",
    "                              'Temperatura', 'Opady'], shared_yaxes=True)\n",
    "\n",
    "    fig.append_trace(go.Heatmap(x=wro_temp.index.hour,\n",
    "                                y=wro_temp.index.weekday.map({0: 'Poniedziałek',\n",
    "                                                              1: 'Wtorek',\n",
    "                                                              2: 'Środa',\n",
    "                                                              3: 'Czwartek',\n",
    "                                                              4: 'Piątek',\n",
    "                                                              5: 'Sobota',\n",
    "                                                              6: 'Niedziela'}),\n",
    "                                z=wro_temp['Wrocław Temperature [2 m elevation corrected]'].tolist(\n",
    "                                ),\n",
    "                                colorscale='Jet',\n",
    "                                showscale=False), 1, 1)\n",
    "\n",
    "    fig.append_trace(go.Heatmap(x=wro_temp.index.hour,\n",
    "                                y=wro_temp.index.weekday.map({0: 'Poniedziałek',\n",
    "                                                              1: 'Wtorek',\n",
    "                                                              2: 'Środa',\n",
    "                                                              3: 'Czwartek',\n",
    "                                                              4: 'Piątek',\n",
    "                                                              5: 'Sobota',\n",
    "                                                              6: 'Niedziela'}),\n",
    "                                z=wro_temp['Wrocław Precipitation Total'].tolist(),\n",
    "                                colorscale='Cividis',\n",
    "                                showscale=False), 1, 2)\n",
    "\n",
    "    return fig\n",
    "@app.callback(Output('hover-details', 'children'),\n",
    "              [Input('wro-weather', 'hoverData')])\n",
    "def update_hover_details(hoverData):\n",
    "    dpoint = hoverData['points'][0]\n",
    "\n",
    "    if dpoint['curveNumber'] == 0:\n",
    "        return f\"{dpoint['y']}: temperatura powietrza o godzinie {dpoint['x']} wynosiła {round(dpoint['z'],2)}\"\n",
    "    elif dpoint['curveNumber'] == 1:\n",
    "        return f\"{dpoint['y']}: opady o godzinie {dpoint['x']} wynosiły {round(dpoint['z'],2)}\"\n",
    "\n",
    "\n",
    "if __name__ == '__main__':\n",
    "    app.run_server()"
   ]
  },
  {
   "cell_type": "code",
   "execution_count": 270,
   "id": "06e43afb-1784-411d-ad58-09a5421f3e7d",
   "metadata": {},
   "outputs": [],
   "source": [
    "import dash\n",
    "import dash_core_components as dcc\n",
    "import dash_html_components as html\n",
    "from dash.dependencies import Input, Output\n",
    "\n",
    "app = dash.Dash()\n",
    "\n",
    "app.layout = html.Div([html.H1('Kalkulator'),\n",
    "                       html.Label('Czynnik #1'),\n",
    "                       dcc.Input(id='product-1', placeholder='5',\n",
    "                                 type='number', value=''),\n",
    "                       html.Br(),\n",
    "                       html.Label('Czynnik #2'),\n",
    "                       dcc.Input(id='product-2', placeholder='2',\n",
    "                                 type='number', value=''),\n",
    "                       html.Div(id='output', style={'font-size': '30px', 'margin': '10px 10px'})])"
   ]
  },
  {
   "cell_type": "code",
   "execution_count": 272,
   "id": "29c6871c-f193-47a0-a009-fc50e1bc625e",
   "metadata": {},
   "outputs": [
    {
     "data": {
      "text/html": [
       "\n",
       "        <iframe\n",
       "            width=\"100%\"\n",
       "            height=\"650\"\n",
       "            src=\"http://127.0.0.1:8050/\"\n",
       "            frameborder=\"0\"\n",
       "            allowfullscreen\n",
       "            \n",
       "        ></iframe>\n",
       "        "
      ],
      "text/plain": [
       "<IPython.lib.display.IFrame at 0x202856cdd60>"
      ]
     },
     "metadata": {},
     "output_type": "display_data"
    }
   ],
   "source": [
    "@app.callback(Output('output', 'children'), [Input('product-1', 'value'), Input('product-2', 'value')])\n",
    "def multiply(prod_1, prod_2):\n",
    "    return prod_1 * prod_2\n",
    "\n",
    "\n",
    "if __name__ == '__main__':\n",
    "    app.run_server()"
   ]
  },
  {
   "cell_type": "code",
   "execution_count": 274,
   "id": "5bf8b30a-9646-490a-acea-31a7f558f52f",
   "metadata": {},
   "outputs": [
    {
     "data": {
      "text/plain": [
       "Button(children='Oblicz!', id='submit-btn')"
      ]
     },
     "execution_count": 274,
     "metadata": {},
     "output_type": "execute_result"
    }
   ],
   "source": [
    "html.Button('Oblicz!',id='submit-btn')"
   ]
  },
  {
   "cell_type": "code",
   "execution_count": 276,
   "id": "9a3d6fa6-2c4f-4da5-996f-008c9fd87032",
   "metadata": {},
   "outputs": [],
   "source": [
    "from dash.dependencies import Input, Output, State"
   ]
  },
  {
   "cell_type": "code",
   "execution_count": 280,
   "id": "1481bb20-9882-4de8-b899-7b957aef0420",
   "metadata": {},
   "outputs": [],
   "source": [
    "@app.callback(Output('output', 'children'),\n",
    "              [Input('submit-btn', 'n_clicks')],\n",
    "              [State('product-1', 'value'), State('product-2', 'value')])\n",
    "def multiply(n_clicks, prod_1, prod_2):\n",
    "    return prod_1 * prod_2"
   ]
  },
  {
   "cell_type": "code",
   "execution_count": 282,
   "id": "4fbc64e0-51c7-4b58-ac23-b91f4496883d",
   "metadata": {},
   "outputs": [
    {
     "data": {
      "text/html": [
       "\n",
       "        <iframe\n",
       "            width=\"100%\"\n",
       "            height=\"650\"\n",
       "            src=\"http://127.0.0.1:8050/\"\n",
       "            frameborder=\"0\"\n",
       "            allowfullscreen\n",
       "            \n",
       "        ></iframe>\n",
       "        "
      ],
      "text/plain": [
       "<IPython.lib.display.IFrame at 0x202856cdd60>"
      ]
     },
     "metadata": {},
     "output_type": "display_data"
    }
   ],
   "source": [
    "if __name__ == '__main__':\n",
    "    app.run_server()"
   ]
  },
  {
   "cell_type": "code",
   "execution_count": 284,
   "id": "f86e626a-5154-4dde-bdba-988805a0bf3c",
   "metadata": {},
   "outputs": [],
   "source": [
    "import pandas as pd\n",
    "import datetime as dt\n",
    "import os\n",
    "import dash\n",
    "import dash_core_components as dcc\n",
    "import dash_html_components as html\n",
    "from dash.dependencies import Input, Output\n",
    "\n",
    "class db:\n",
    "    def __init__(self):\n",
    "        self.transactions = self.transaction_init()  # Fixed method call\n",
    "        self.cc = pd.read_csv(r'db\\country_codes.csv', index_col=0)\n",
    "        self.customers = pd.read_csv(r'db\\customers.csv', index_col=0)\n",
    "        self.prod_info = pd.read_csv(r'db\\prod_cat_info.csv')\n",
    "\n",
    "    def transaction_init(self):\n",
    "        # Example placeholder method. Implement logic as needed.\n",
    "        return []\n"
   ]
  },
  {
   "cell_type": "code",
   "execution_count": 286,
   "id": "7a58d95f-aaf5-46f7-a539-7d10a540ac9a",
   "metadata": {},
   "outputs": [],
   "source": [
    "@staticmethod\n",
    "def transation_init():\n",
    "    transactions = pd.DataFrame()\n",
    "    src = r'db\\transactions'\n",
    "    for filename in os.listdir(src):\n",
    "        transactions = transactions.append(pd.read_csv(os.path.join(src,filename),index_col=0))\n",
    "\n",
    "    def convert_dates(x):\n",
    "        try:\n",
    "            return dt.datetime.strptime(x,'%d-%m-%Y')\n",
    "        except:\n",
    "            return dt.datetime.strptime(x,'%d/%m/%Y')\n",
    "\n",
    "    transactions['tran_date'] = transactions['tran_date'].apply(lambda x: convert_dates(x))\n",
    "\n",
    "    return transactions"
   ]
  },
  {
   "cell_type": "code",
   "execution_count": 288,
   "id": "3a0b2238-ec03-43b0-a609-65142470780c",
   "metadata": {},
   "outputs": [],
   "source": [
    "def merge(self):\n",
    "    df = self.transactions.join(self.prod_info.drop_duplicates(subset=['prod_cat_code'])\n",
    "    .set_index('prod_cat_code')['prod_cat'],on='prod_cat_code',how='left')\n",
    "\n",
    "    df = df.join(self.prod_info.drop_duplicates(subset=['prod_sub_cat_code'])\n",
    "    .set_index('prod_sub_cat_code')['prod_subcat'],on='prod_subcat_code',how='left')\n",
    "\n",
    "    df = df.join(self.customers.join(self.cc,on='country_code')\n",
    "    .set_index('customer_Id'),on='cust_id')\n",
    "\n",
    "    self.merged = df"
   ]
  },
  {
   "cell_type": "code",
   "execution_count": 290,
   "id": "bdbb1c6d-9b14-402e-a75b-8691568b6c43",
   "metadata": {},
   "outputs": [
    {
     "ename": "AttributeError",
     "evalue": "type object 'db' has no attribute 'merge'",
     "output_type": "error",
     "traceback": [
      "\u001b[1;31m---------------------------------------------------------------------------\u001b[0m",
      "\u001b[1;31mAttributeError\u001b[0m                            Traceback (most recent call last)",
      "Cell \u001b[1;32mIn[290], line 2\u001b[0m\n\u001b[0;32m      1\u001b[0m df \u001b[38;5;241m=\u001b[39m db()\n\u001b[1;32m----> 2\u001b[0m db\u001b[38;5;241m.\u001b[39mmerge()\n",
      "\u001b[1;31mAttributeError\u001b[0m: type object 'db' has no attribute 'merge'"
     ]
    }
   ],
   "source": [
    "df = db()\n",
    "db.merge()"
   ]
  },
  {
   "cell_type": "code",
   "execution_count": 292,
   "id": "b589f42e-d11f-4ade-8a76-bfe4a0428611",
   "metadata": {},
   "outputs": [],
   "source": [
    "import pandas as pd\n",
    "import datetime as dt\n",
    "import os\n",
    "\n",
    "class db:\n",
    "    def __init__(self):\n",
    "        self.transactions = self.transaction_init()\n",
    "        self.cc = pd.read_csv(r'db\\country_codes.csv', index_col=0)\n",
    "        self.customers = pd.read_csv(r'db\\customers.csv', index_col=0)\n",
    "        self.prod_info = pd.read_csv(r'db\\prod_cat_info.csv')\n",
    "\n",
    "    def transaction_init(self):\n",
    "        transactions = pd.DataFrame()\n",
    "        src = r'db\\transactions'\n",
    "        for filename in os.listdir(src):\n",
    "            transactions = pd.concat([transactions, pd.read_csv(os.path.join(src, filename), index_col=0)])\n",
    "\n",
    "        def convert_dates(x):\n",
    "            try:\n",
    "                return dt.datetime.strptime(x, '%d-%m-%Y')\n",
    "            except:\n",
    "                return dt.datetime.strptime(x, '%d/%m/%Y')\n",
    "\n",
    "        transactions['tran_date'] = transactions['tran_date'].apply(lambda x: convert_dates(x))\n",
    "        return transactions\n",
    "\n",
    "    def merge(self):\n",
    "        df = self.transactions.join(\n",
    "            self.prod_info.drop_duplicates(subset=['prod_cat_code'])\n",
    "            .set_index('prod_cat_code')['prod_cat'],\n",
    "            on='prod_cat_code',\n",
    "            how='left'\n",
    "        )\n",
    "\n",
    "        df = df.join(\n",
    "            self.prod_info.drop_duplicates(subset=['prod_sub_cat_code'])\n",
    "            .set_index('prod_sub_cat_code')['prod_subcat'],\n",
    "            on='prod_subcat_code',\n",
    "            how='left'\n",
    "        )\n",
    "\n",
    "        df = df.join(\n",
    "            self.customers.join(self.cc, on='country_code')\n",
    "            .set_index('customer_Id'),\n",
    "            on='cust_id'\n",
    "        )\n",
    "        self.merged = df\n",
    "\n",
    "\n",
    "# Instantiate the class and call the merge method\n",
    "db_instance = db()\n",
    "db_instance.merge()"
   ]
  },
  {
   "cell_type": "code",
   "execution_count": 294,
   "id": "d5ce5e55-eeed-4949-824a-696745e39b96",
   "metadata": {
    "scrolled": true
   },
   "outputs": [
    {
     "data": {
      "text/html": [
       "\n",
       "        <iframe\n",
       "            width=\"100%\"\n",
       "            height=\"650\"\n",
       "            src=\"http://127.0.0.1:8050/\"\n",
       "            frameborder=\"0\"\n",
       "            allowfullscreen\n",
       "            \n",
       "        ></iframe>\n",
       "        "
      ],
      "text/plain": [
       "<IPython.lib.display.IFrame at 0x20284c493a0>"
      ]
     },
     "metadata": {},
     "output_type": "display_data"
    }
   ],
   "source": [
    "import dash\n",
    "from dash import html  # Import html from dash\n",
    "import pandas as pd\n",
    "import datetime as dt\n",
    "import os\n",
    "\n",
    "class db:\n",
    "    def __init__(self):\n",
    "        self.transactions = self.transaction_init()\n",
    "        self.cc = pd.read_csv(r'db\\country_codes.csv', index_col=0)\n",
    "        self.customers = pd.read_csv(r'db\\customers.csv', index_col=0)\n",
    "        self.prod_info = pd.read_csv(r'db\\prod_cat_info.csv')\n",
    "\n",
    "    def transaction_init(self):\n",
    "        transactions = pd.DataFrame()\n",
    "        src = r'db\\transactions'\n",
    "        for filename in os.listdir(src):\n",
    "            transactions = pd.concat([transactions, pd.read_csv(os.path.join(src, filename), index_col=0)])\n",
    "\n",
    "        def convert_dates(x):\n",
    "            try:\n",
    "                return dt.datetime.strptime(x, '%d-%m-%Y')\n",
    "            except:\n",
    "                return dt.datetime.strptime(x, '%d/%m/%Y')\n",
    "\n",
    "        transactions['tran_date'] = transactions['tran_date'].apply(lambda x: convert_dates(x))\n",
    "        return transactions\n",
    "\n",
    "    def merge(self):\n",
    "        df = self.transactions.join(\n",
    "            self.prod_info.drop_duplicates(subset=['prod_cat_code'])\n",
    "            .set_index('prod_cat_code')['prod_cat'],\n",
    "            on='prod_cat_code',\n",
    "            how='left'\n",
    "        )\n",
    "\n",
    "        df = df.join(\n",
    "            self.prod_info.drop_duplicates(subset=['prod_sub_cat_code'])\n",
    "            .set_index('prod_sub_cat_code')['prod_subcat'],\n",
    "            on='prod_subcat_code',\n",
    "            how='left'\n",
    "        )\n",
    "\n",
    "        df = df.join(\n",
    "            self.customers.join(self.cc, on='country_code')\n",
    "            .set_index('customer_Id'),\n",
    "            on='cust_id'\n",
    "        )\n",
    "        self.merged = df\n",
    "\n",
    "\n",
    "# Instantiate the class and call the merge method\n",
    "db_instance = db()\n",
    "db_instance.merge()\n",
    "\n",
    "external_stylesheets = ['https://codepen.io/chriddyp/pen/bWLwgP.css']\n",
    "\n",
    "# Correctly use html.Div from dash.html\n",
    "app = dash.Dash(__name__, external_stylesheets=external_stylesheets)\n",
    "\n",
    "app.layout = html.Div([], style={'height': '100%'})\n",
    "\n",
    "if __name__ == \"__main__\":\n",
    "    app.run_server(debug=True)"
   ]
  },
  {
   "cell_type": "code",
   "execution_count": 296,
   "id": "54fffde4-f773-4818-aa41-ded444c57cd7",
   "metadata": {},
   "outputs": [
    {
     "data": {
      "text/html": [
       "\n",
       "        <iframe\n",
       "            width=\"100%\"\n",
       "            height=\"650\"\n",
       "            src=\"http://127.0.0.1:8050/\"\n",
       "            frameborder=\"0\"\n",
       "            allowfullscreen\n",
       "            \n",
       "        ></iframe>\n",
       "        "
      ],
      "text/plain": [
       "<IPython.lib.display.IFrame at 0x202856c72f0>"
      ]
     },
     "metadata": {},
     "output_type": "display_data"
    }
   ],
   "source": [
    "from dash import Dash, html, dcc\n",
    "\n",
    "app = Dash(__name__)\n",
    "\n",
    "app.layout = html.Div([\n",
    "    dcc.Tabs(id='tabs', value='tab-1', children=[\n",
    "        dcc.Tab(label='Sprzedaż globalna', value='tab-1'),\n",
    "        dcc.Tab(label='Produkty', value='tab-2')\n",
    "    ]),\n",
    "    html.Div(id='tabs-content')\n",
    "])\n",
    "\n",
    "if __name__ == '__main__':\n",
    "    app.run_server(debug=True)"
   ]
  },
  {
   "cell_type": "code",
   "execution_count": 298,
   "id": "a91050b9-c0db-427c-ad78-cb4176e5c22b",
   "metadata": {},
   "outputs": [],
   "source": [
    "app.layout = html.Div([html.Div([dcc.Tabs(id='tabs',value='tab-1',children=[\n",
    "                            dcc.Tab(label='Sprzedaż globalna',value='tab-1'),\n",
    "                            dcc.Tab(label='Produkty',value='tab-2')\n",
    "                            ]),\n",
    "                            html.Div(id='tabs-content')\n",
    "                    ],style={'width':'80%','margin':'auto'})],\n",
    "                    style={'height':'100%'})"
   ]
  },
  {
   "cell_type": "code",
   "execution_count": 302,
   "id": "61e69694-e9f3-4d86-b7d3-a76f8424b08f",
   "metadata": {},
   "outputs": [
    {
     "data": {
      "text/html": [
       "\n",
       "        <iframe\n",
       "            width=\"100%\"\n",
       "            height=\"650\"\n",
       "            src=\"http://127.0.0.1:8050/\"\n",
       "            frameborder=\"0\"\n",
       "            allowfullscreen\n",
       "            \n",
       "        ></iframe>\n",
       "        "
      ],
      "text/plain": [
       "<IPython.lib.display.IFrame at 0x20284c493a0>"
      ]
     },
     "metadata": {},
     "output_type": "display_data"
    }
   ],
   "source": [
    "if __name__ == '__main__':\n",
    "    app.run_server(debug=True)"
   ]
  },
  {
   "cell_type": "code",
   "execution_count": 304,
   "id": "b840159f-ae9d-4dd3-ad75-2e751756ce24",
   "metadata": {},
   "outputs": [],
   "source": [
    "def render_tab(df):\n",
    "\n",
    "    layout = html.Div([html.H1(),\n",
    "            html.Div([dcc.DatePickerRange()]),\n",
    "            html.Div([html.Div([dcc.Graph()]),html.Div([dcc.Graph()]\n",
    "            )]\n",
    "            )]\n",
    "            )\n",
    "\n",
    "    return layout"
   ]
  },
  {
   "cell_type": "code",
   "execution_count": 306,
   "id": "a2b28d4c-b0ce-4746-adb0-f57c5272c64a",
   "metadata": {},
   "outputs": [
    {
     "data": {
      "text/plain": [
       "H1(children='Sprzedaż globalna', style={'text-align': 'center'})"
      ]
     },
     "execution_count": 306,
     "metadata": {},
     "output_type": "execute_result"
    }
   ],
   "source": [
    "html.H1('Sprzedaż globalna',style={'text-align':'center'})"
   ]
  },
  {
   "cell_type": "code",
   "execution_count": 312,
   "id": "1f569c87-5ed3-4738-8994-b8ea2e110814",
   "metadata": {},
   "outputs": [
    {
     "ename": "TypeError",
     "evalue": "'db' object is not subscriptable",
     "output_type": "error",
     "traceback": [
      "\u001b[1;31m---------------------------------------------------------------------------\u001b[0m",
      "\u001b[1;31mTypeError\u001b[0m                                 Traceback (most recent call last)",
      "Cell \u001b[1;32mIn[312], line 6\u001b[0m\n\u001b[0;32m      1\u001b[0m \u001b[38;5;28;01mimport\u001b[39;00m \u001b[38;5;21;01mpandas\u001b[39;00m \u001b[38;5;28;01mas\u001b[39;00m \u001b[38;5;21;01mpd\u001b[39;00m\n\u001b[0;32m      2\u001b[0m \u001b[38;5;28;01mimport\u001b[39;00m \u001b[38;5;21;01msqlite3\u001b[39;00m\n\u001b[0;32m      4\u001b[0m [dcc\u001b[38;5;241m.\u001b[39mDatePickerRange(\n\u001b[0;32m      5\u001b[0m     \u001b[38;5;28mid\u001b[39m\u001b[38;5;241m=\u001b[39m\u001b[38;5;124m'\u001b[39m\u001b[38;5;124msales-range\u001b[39m\u001b[38;5;124m'\u001b[39m,\n\u001b[1;32m----> 6\u001b[0m     start_date\u001b[38;5;241m=\u001b[39mdf[\u001b[38;5;124m'\u001b[39m\u001b[38;5;124mtran_date\u001b[39m\u001b[38;5;124m'\u001b[39m]\u001b[38;5;241m.\u001b[39mmin(),  \u001b[38;5;66;03m# Ensure df['tran_date'] exists\u001b[39;00m\n\u001b[0;32m      7\u001b[0m     end_date\u001b[38;5;241m=\u001b[39mdf[\u001b[38;5;124m'\u001b[39m\u001b[38;5;124mtran_date\u001b[39m\u001b[38;5;124m'\u001b[39m]\u001b[38;5;241m.\u001b[39mmax(),\n\u001b[0;32m      8\u001b[0m     display_format\u001b[38;5;241m=\u001b[39m\u001b[38;5;124m'\u001b[39m\u001b[38;5;124mYYYY-MM-DD\u001b[39m\u001b[38;5;124m'\u001b[39m\n\u001b[0;32m      9\u001b[0m )]\n",
      "\u001b[1;31mTypeError\u001b[0m: 'db' object is not subscriptable"
     ]
    }
   ],
   "source": [
    "\n",
    "[dcc.DatePickerRange(\n",
    "    id='sales-range',\n",
    "    start_date=df['tran_date'].min(),  # Ensure df['tran_date'] exists\n",
    "    end_date=df['tran_date'].max(),\n",
    "    display_format='YYYY-MM-DD'\n",
    ")]"
   ]
  },
  {
   "cell_type": "code",
   "execution_count": null,
   "id": "ad62a7a0-8677-42d8-b005-c2fad993048a",
   "metadata": {},
   "outputs": [],
   "source": []
  }
 ],
 "metadata": {
  "kernelspec": {
   "display_name": "Python 3 (ipykernel)",
   "language": "python",
   "name": "python3"
  },
  "language_info": {
   "codemirror_mode": {
    "name": "ipython",
    "version": 3
   },
   "file_extension": ".py",
   "mimetype": "text/x-python",
   "name": "python",
   "nbconvert_exporter": "python",
   "pygments_lexer": "ipython3",
   "version": "3.12.3"
  }
 },
 "nbformat": 4,
 "nbformat_minor": 5
}
